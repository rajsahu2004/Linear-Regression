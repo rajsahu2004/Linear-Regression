{
 "cells": [
  {
   "cell_type": "code",
   "execution_count": 38,
   "metadata": {},
   "outputs": [],
   "source": [
    "import numpy as np\n",
    "import matplotlib.pyplot as plt\n",
    "import pandas as pd"
   ]
  },
  {
   "cell_type": "code",
   "execution_count": 39,
   "metadata": {},
   "outputs": [
    {
     "data": {
      "text/html": [
       "<div>\n",
       "<style scoped>\n",
       "    .dataframe tbody tr th:only-of-type {\n",
       "        vertical-align: middle;\n",
       "    }\n",
       "\n",
       "    .dataframe tbody tr th {\n",
       "        vertical-align: top;\n",
       "    }\n",
       "\n",
       "    .dataframe thead th {\n",
       "        text-align: right;\n",
       "    }\n",
       "</style>\n",
       "<table border=\"1\" class=\"dataframe\">\n",
       "  <thead>\n",
       "    <tr style=\"text-align: right;\">\n",
       "      <th></th>\n",
       "      <th>TV</th>\n",
       "      <th>Radio</th>\n",
       "      <th>Newspaper</th>\n",
       "      <th>Sales</th>\n",
       "    </tr>\n",
       "  </thead>\n",
       "  <tbody>\n",
       "    <tr>\n",
       "      <th>0</th>\n",
       "      <td>230.1</td>\n",
       "      <td>37.8</td>\n",
       "      <td>69.2</td>\n",
       "      <td>22.1</td>\n",
       "    </tr>\n",
       "    <tr>\n",
       "      <th>1</th>\n",
       "      <td>44.5</td>\n",
       "      <td>39.3</td>\n",
       "      <td>45.1</td>\n",
       "      <td>10.4</td>\n",
       "    </tr>\n",
       "    <tr>\n",
       "      <th>2</th>\n",
       "      <td>17.2</td>\n",
       "      <td>45.9</td>\n",
       "      <td>69.3</td>\n",
       "      <td>12.0</td>\n",
       "    </tr>\n",
       "    <tr>\n",
       "      <th>3</th>\n",
       "      <td>151.5</td>\n",
       "      <td>41.3</td>\n",
       "      <td>58.5</td>\n",
       "      <td>16.5</td>\n",
       "    </tr>\n",
       "    <tr>\n",
       "      <th>4</th>\n",
       "      <td>180.8</td>\n",
       "      <td>10.8</td>\n",
       "      <td>58.4</td>\n",
       "      <td>17.9</td>\n",
       "    </tr>\n",
       "  </tbody>\n",
       "</table>\n",
       "</div>"
      ],
      "text/plain": [
       "      TV  Radio  Newspaper  Sales\n",
       "0  230.1   37.8       69.2   22.1\n",
       "1   44.5   39.3       45.1   10.4\n",
       "2   17.2   45.9       69.3   12.0\n",
       "3  151.5   41.3       58.5   16.5\n",
       "4  180.8   10.8       58.4   17.9"
      ]
     },
     "execution_count": 39,
     "metadata": {},
     "output_type": "execute_result"
    }
   ],
   "source": [
    "data = pd.read_csv('Practice/data/advertising.csv')\n",
    "data.head()"
   ]
  },
  {
   "cell_type": "code",
   "execution_count": 50,
   "metadata": {},
   "outputs": [],
   "source": [
    "xTrain = data.values[:,:-1]\n",
    "yTrain = data.values[:,-1]"
   ]
  },
  {
   "cell_type": "code",
   "execution_count": 51,
   "metadata": {},
   "outputs": [],
   "source": [
    "def predict(x,w,b):\n",
    "    return np.dot(x,w)+b"
   ]
  },
  {
   "cell_type": "code",
   "execution_count": 52,
   "metadata": {},
   "outputs": [],
   "source": [
    "def gradientDescent(x,y,learningRate,iterations):\n",
    "    m,n = x.shape\n",
    "    w,b = np.zeros(n),0\n",
    "    costList = np.array([])\n",
    "    for i in range(iterations):\n",
    "        cost = (1/(2*m))*np.sum(np.square(predict(x,w,b)-y))\n",
    "        costList = np.append(costList,cost)\n",
    "        dw = (1/m)*np.dot(x.T,predict(x,w,b)-y)\n",
    "        db = (1/m)*(predict(x,w,b)-y)\n",
    "        w = w - learningRate*dw\n",
    "        b = b - learningRate*db\n",
    "        if(i%(iterations/100)==0):\n",
    "            print(f'Iteration : {i}\\tCost : {cost}')\n",
    "    return w,b,costList"
   ]
  },
  {
   "cell_type": "code",
   "execution_count": 53,
   "metadata": {},
   "outputs": [
    {
     "name": "stdout",
     "output_type": "stream",
     "text": [
      "Iteration : 0\tCost : 128.355975\n",
      "Iteration : 100\tCost : 4.51505496415097\n",
      "Iteration : 200\tCost : 3.7209040061776135\n",
      "Iteration : 300\tCost : 3.4079226367413002\n",
      "Iteration : 400\tCost : 3.2404553042953665\n",
      "Iteration : 500\tCost : 3.135281804969965\n",
      "Iteration : 600\tCost : 3.0651830606970494\n",
      "Iteration : 700\tCost : 3.0175634711164263\n",
      "Iteration : 800\tCost : 2.98502472086985\n",
      "Iteration : 900\tCost : 2.9627496501529755\n",
      "Iteration : 1000\tCost : 2.9474901111088387\n",
      "Iteration : 1100\tCost : 2.9370320876387472\n",
      "Iteration : 1200\tCost : 2.9298615390973084\n",
      "Iteration : 1300\tCost : 2.924942096337352\n",
      "Iteration : 1400\tCost : 2.9215641552329137\n",
      "Iteration : 1500\tCost : 2.9192418069715473\n",
      "Iteration : 1600\tCost : 2.917642312033375\n",
      "Iteration : 1700\tCost : 2.9165378161088307\n",
      "Iteration : 1800\tCost : 2.915772288133013\n",
      "Iteration : 1900\tCost : 2.915238880404503\n",
      "Iteration : 2000\tCost : 2.9148644252272904\n",
      "Iteration : 2100\tCost : 2.9145988184626934\n",
      "Iteration : 2200\tCost : 2.9144077495489116\n",
      "Iteration : 2300\tCost : 2.914267723128312\n",
      "Iteration : 2400\tCost : 2.914162649932688\n",
      "Iteration : 2500\tCost : 2.914081512272691\n",
      "Iteration : 2600\tCost : 2.9140167654000435\n",
      "Iteration : 2700\tCost : 2.9139632427843787\n",
      "Iteration : 2800\tCost : 2.9139174064632556\n",
      "Iteration : 2900\tCost : 2.9138768336931027\n",
      "Iteration : 3000\tCost : 2.9138398654154885\n",
      "Iteration : 3100\tCost : 2.913805365532105\n",
      "Iteration : 3200\tCost : 2.9137725560598815\n",
      "Iteration : 3300\tCost : 2.9137409042476894\n",
      "Iteration : 3400\tCost : 2.9137100452755536\n",
      "Iteration : 3500\tCost : 2.9136797293202283\n",
      "Iteration : 3600\tCost : 2.9136497853065055\n",
      "Iteration : 3700\tCost : 2.9136200960846486\n",
      "Iteration : 3800\tCost : 2.913590581432277\n",
      "Iteration : 3900\tCost : 2.913561186414308\n",
      "Iteration : 4000\tCost : 2.913531873412018\n",
      "Iteration : 4100\tCost : 2.913502616664673\n",
      "Iteration : 4200\tCost : 2.9134733985317034\n",
      "Iteration : 4300\tCost : 2.9134442069331157\n",
      "Iteration : 4400\tCost : 2.913415033596707\n",
      "Iteration : 4500\tCost : 2.9133858728577993\n",
      "Iteration : 4600\tCost : 2.913356720837301\n",
      "Iteration : 4700\tCost : 2.9133275748788714\n",
      "Iteration : 4800\tCost : 2.913298433163486\n",
      "Iteration : 4900\tCost : 2.913269294445503\n",
      "Iteration : 5000\tCost : 2.913240157871925\n",
      "Iteration : 5100\tCost : 2.9132110228586305\n",
      "Iteration : 5200\tCost : 2.913181889005622\n",
      "Iteration : 5300\tCost : 2.9131527560389863\n",
      "Iteration : 5400\tCost : 2.9131236237711495\n",
      "Iteration : 5500\tCost : 2.913094492073663\n",
      "Iteration : 5600\tCost : 2.913065360858568\n",
      "Iteration : 5700\tCost : 2.9130362300656305\n",
      "Iteration : 5800\tCost : 2.9130070996535995\n",
      "Iteration : 5900\tCost : 2.9129779695942286\n",
      "Iteration : 6000\tCost : 2.9129488398681738\n",
      "Iteration : 6100\tCost : 2.9129197104621887\n",
      "Iteration : 6200\tCost : 2.9128905813671975\n",
      "Iteration : 6300\tCost : 2.9128614525769887\n",
      "Iteration : 6400\tCost : 2.912832324087305\n",
      "Iteration : 6500\tCost : 2.9128031958952327\n",
      "Iteration : 6600\tCost : 2.9127740679987726\n",
      "Iteration : 6700\tCost : 2.912744940396558\n",
      "Iteration : 6800\tCost : 2.912715813087649\n",
      "Iteration : 6900\tCost : 2.9126866860714022\n",
      "Iteration : 7000\tCost : 2.912657559347378\n",
      "Iteration : 7100\tCost : 2.912628432915271\n",
      "Iteration : 7200\tCost : 2.9125993067748737\n",
      "Iteration : 7300\tCost : 2.912570180926043\n",
      "Iteration : 7400\tCost : 2.9125410553686777\n",
      "Iteration : 7500\tCost : 2.912511930102712\n",
      "Iteration : 7600\tCost : 2.912482805128094\n",
      "Iteration : 7700\tCost : 2.9124536804447922\n",
      "Iteration : 7800\tCost : 2.9124245560527817\n",
      "Iteration : 7900\tCost : 2.9123954319520453\n",
      "Iteration : 8000\tCost : 2.9123663081425706\n",
      "Iteration : 8100\tCost : 2.912337184624346\n",
      "Iteration : 8200\tCost : 2.9123080613973666\n",
      "Iteration : 8300\tCost : 2.9122789384616246\n",
      "Iteration : 8400\tCost : 2.9122498158171153\n",
      "Iteration : 8500\tCost : 2.9122206934638335\n",
      "Iteration : 8600\tCost : 2.9121915714017765\n",
      "Iteration : 8700\tCost : 2.9121624496309404\n",
      "Iteration : 8800\tCost : 2.912133328151321\n",
      "Iteration : 8900\tCost : 2.9121042069629164\n",
      "Iteration : 9000\tCost : 2.9120750860657223\n",
      "Iteration : 9100\tCost : 2.9120459654597357\n",
      "Iteration : 9200\tCost : 2.912016845144955\n",
      "Iteration : 9300\tCost : 2.9119877251213757\n",
      "Iteration : 9400\tCost : 2.9119586053889948\n",
      "Iteration : 9500\tCost : 2.91192948594781\n",
      "Iteration : 9600\tCost : 2.911900366797819\n",
      "Iteration : 9700\tCost : 2.9118712479390174\n",
      "Iteration : 9800\tCost : 2.911842129371403\n",
      "Iteration : 9900\tCost : 2.911813011094973\n"
     ]
    }
   ],
   "source": [
    "w,b,costList = gradientDescent(xTrain,yTrain,learningRate=1e-5,iterations=10000)"
   ]
  },
  {
   "cell_type": "code",
   "execution_count": 57,
   "metadata": {},
   "outputs": [
    {
     "data": {
      "text/plain": [
       "Text(0, 0.5, 'Sales')"
      ]
     },
     "execution_count": 57,
     "metadata": {},
     "output_type": "execute_result"
    },
    {
     "data": {
      "image/png": "[encoded data removed]",
      "text/plain": [
       "<Figure size 640x480 with 1 Axes>"
      ]
     },
     "metadata": {},
     "output_type": "display_data"
    }
   ],
   "source": [
    "m = range(yTrain.size)\n",
    "plt.scatter(m,yTrain,label='Original Sales')\n",
    "plt.scatter(m,predict(xTrain,w,b),label='Predicted Sales')\n",
    "plt.legend()\n",
    "plt.ylabel('Sales')"
   ]
  }
 ],
 "metadata": {
  "kernelspec": {
   "display_name": "Python 3",
   "language": "python",
   "name": "python3"
  },
  "language_info": {
   "codemirror_mode": {
    "name": "ipython",
    "version": 3
   },
   "file_extension": ".py",
   "mimetype": "text/x-python",
   "name": "python",
   "nbconvert_exporter": "python",
   "pygments_lexer": "ipython3",
   "version": "3.11.1"
  },
  "orig_nbformat": 4,
  "vscode": {
   "interpreter": {
    "hash": "602919d464dfe7af3f507ca91995c850ca666670ec78fead2e65409c9086752a"
   }
  }
 },
 "nbformat": 4,
 "nbformat_minor": 2
}
